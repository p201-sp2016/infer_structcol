{
 "cells": [
  {
   "cell_type": "markdown",
   "metadata": {},
   "source": [
    "# Generative Model Development\n",
    "\n",
    "### Team Mandrill Rumps - Solomon Barkley, Victoria Hwang, Anna B. Stephenson\n",
    "\n",
    "April 11, 2017\n",
    "\n",
    "Updated April 18, 2017"
   ]
  },
  {
   "cell_type": "code",
   "execution_count": 1,
   "metadata": {
    "collapsed": true
   },
   "outputs": [],
   "source": [
    "import infer_structcol as ifs\n",
    "import time\n",
    "import os\n",
    "from matplotlib import pyplot as plt\n",
    "import seaborn as sns"
   ]
  },
  {
   "cell_type": "markdown",
   "metadata": {},
   "source": [
    "The goal of this package is to infer the volume fraction of a colloidal structural color sample from its reflectance spectrum. The generative model must be able to reproduce an experimental reflectance spectrum from a set of parameters defining the sample. The foundation of the generative model is a stochastic multiple scattering algorithm included in a separate python package at https://github.com/manoharan-lab/structural-color. Here, we describe the multiple scattering model, our generative model (and its uncertainties), and our likelihood function."
   ]
  },
  {
   "cell_type": "markdown",
   "metadata": {},
   "source": [
    "### Monte Carlo multiple scattering calculations\n",
    "These calculations are a part of the structural-color package (see above).\n",
    "\n",
    "This model predicts the reflectance spectra of structurally colored samples of thin films made from nanoscale spheres in a disordered packing. Past models have accounted for only a single scattering event in the sample [1], but this model uses a Monte Carlo approach to account for many scattering events, leading to more accurate results. \n",
    "\n",
    "The Monte Carlo model simulates the trajectories of individual photons as random walkers that move through a material by sampling both the step size and the direction from distributions that are calculated using the material parameters. \n",
    "\n",
    "##### Material parameters\n",
    "\n",
    "1. Particle size: the radius of the particles in the sample\n",
    "2. Particle refractive index\n",
    "3. Particle volume fraction \n",
    "4. Sample thickness\n",
    "5. Matrix refractive index: the matrix is the material in which the particles are embedded\n",
    "6. Medium refractive index: the medium is the material surrounding the the matrix/particle system, usually air\n",
    "\n",
    "##### Procedure\n",
    "\n",
    "1. A user-specified number of photon packets is created with an initial position, direction of propagation, and weight.\n",
    "2. The photon packets travel a step size sampled from a distribution based on Beer's law [2], and the positions are updated. \n",
    "3. The photon packet weights are updated to account for the light absorbed during the step.\n",
    "4. The photon packets are scattered after traveling the initial step, and new direcitons are sampled from the phase function, which is the angular distribution of the scattered intensity [3].\n",
    "5. The step size is then sampled again and the process of scattering and stepping is repeated many times as specified by the user.\n",
    "6. After the simulation is completed, a reflectance is calculated by counting the photon packets that exit the sample in the backscattering hemisphere. \n",
    "\n",
    "##### Calculating Reflectance\n",
    "\n",
    "Each simulation sends in a user-specified number of photon packets at the surface of the sample film. To calculate the reflectance, the number of photon packets that exits the sample through the backscattering hemisphere is divided by the total number of photon packets sent into the sample.\n",
    "\n",
    "A sample consists of a film of a set thickness. The code also accounts for reflections due to the index contrast at the interface using the Fresnel equations, but only at the first air-sample interface. Refraction of the backscattered light exiting the sample is calculated using Snell's law, so that the angle of photons exiting the sample can be tracked in case the user is only interested in collecting a certain angle range of light. "
   ]
  },
  {
   "cell_type": "markdown",
   "metadata": {},
   "source": [
    "### Generative model\n",
    "The generative model involves corrections on the reflectance spectrum produced by the calculations in the structural-color package (see above).\n",
    "\n",
    "##### Basic generative model\n",
    "\n",
    "The goal of the generative model is to calculate reflection spectra from structural color samples defined by a set of parameters. The Monte Carlo model described above generates theoretical spectra but these spectra do not correspond to experimental measurements. The full generative model incorporates the Monte Carlo calculations as well as additional factors to produce reflection spectra that resemble experimental data.\n",
    "\n",
    "All of the arguments taken by the Monte Carlo model can be reliably measured for typical samples, except for particle volume fraction $\\phi$, which is included in the generative model as an inference parameter. The Monte Carlo model returns a theoretical reflection calculation $R^t(\\lambda, \\phi)$, where $\\lambda$ is the light wavelength at which reflectance is calculated. A spectrum $\\left \\{ R^t(\\phi) \\right \\}$ consists of a set of $R^t_i(\\lambda_i, \\phi)$ values, where $\\left \\{ \\lambda_i \\right \\}$ represents all wavelengths used to produce the spectrum.\n",
    "\n",
    "The theoretical reflectance $R^t$ must be transformed into a corrected reflectance $R^c$ before it can be compared with experimental data. Frequently, not all of the incident light on a non-absorbing sample is recorded as being reflected or transmitted since some light is lost in the experimental system. Since the exact reasons for loss are not known, they cannot be accurately measured. Instead, we parameterize a constant loss level $l_0$ with a linear modulation by wavelength with strength $l_1$, so that total losses $L_i = l_0 + l_1\\lambda_i$. Therefore a corrected spectrum $\\left \\{ R^c(\\phi) \\right \\}$ is given by the elementwise product of $\\left \\{ R^c\\left(\\phi\\right) \\right \\}$ and $\\left \\{ 1-L_i \\right \\}$, or:\n",
    "\n",
    "$$\n",
    "R^c_i(\\lambda_i,\\phi, l_0, l_1)=(1-l_0-l_1\\lambda_i)R^t_i\\left(\\lambda_i, \\phi\\right)\n",
    "$$\n",
    "\n",
    "The $l_0$ and $l_1$ values are not generally known (or physically interesting), so they are marginalized over in the inference calculation (performed with MCMC so marginalization is trivial).\n",
    "\n",
    "##### Generative model extensions\n",
    "\n",
    "There are multiple ways to extend the basic model described above. All require modification of the underlying Monte Carlo model.\n",
    "\n",
    "The highest priority extension is to calculate transmission spectra $\\left \\{ T^c(\\phi) \\right \\}$ as well as reflection spectra. Both spectra can be measured experimentally from the same sample, so this extension would increase the predictive power of the generative model. By providing more information to inform our likelihood function, we hope to obtain a better estimate of sample volume fraction $\\phi$. In general, there are some losses associated with both transmission and reflection, and there is no obvious simple relation between these values. Separate parameters describing transmission losses $l_0^*$ and $l_1^*$ will be introduced and marginalized over in the inference calculation. This addition would require large changes to the Monte Carlo code, but few changes to the generative model.\n",
    "\n",
    "Other extensions involve increasing the amount of information that goes into the Monte Carlo calculation by allowing parameters to vary that are currently held fixed. Examples include sphere polydispersity and incident beam divergence, both of which are currently fixed at zero. Both values could be measured experimentally or sampled as parameters and marginalized over in an inference calculation. These types of extensions would help to make the generative model more physical by accounting for phenomena that are currently neglected. They would require relatively minor changes to the Monte Carlo code, but the generative model may need to be reworked for computation time concerns. The basic model includes only a single parameter ($\\phi$) that affects the Monte Carlo output, but addition of more parameters would increase the dimensionality and computation time required to adequately sample parameter space."
   ]
  },
  {
   "cell_type": "markdown",
   "metadata": {},
   "source": [
    "### Model uncertainties\n",
    "\n",
    "Due to the stochastic nature of the Monte Carlo model for scattering calculations, a calculated spectrum has uncertainties that must be included and propagated in the generative model. In general, these uncertainties will depend on the number of trajectories and scattering events we choose for a single calculation, and on the total number of runs we perform. \n",
    "\n",
    "The choice of the number of scattering events is determined by the \"equilibration\" time for the scattering calculations. This means that we need enough scattering events such that most of the photons exit the sample, which would resemble more closely the behavior of light in an experimental measurement. We decided to choose 100 scattering events for our calculations.\n",
    "\n",
    "The number of trajectories will affect the noise level and reproducibility of the resulting spectra. The more trajectories we use, the less noisy and more reproducible the data. From previous calculations, we found that choosing 10,000 trajectories leads to very reproducible results; however, we also want to reduce the computation time of each run such that the later inference calculations are computationally accessible. Therefore, we decided to use 300 trajectories per run. The uncertainty range (set to 1 standard deviation) across the spectrum of visible wavelengths calculated from 100 of these runs is\n",
    "\n",
    "$$\n",
    "0.015 < \\sigma < 0.032\n",
    "$$\n",
    "\n",
    "This range should be smaller than the measured uncertainties from the experimental data. "
   ]
  },
  {
   "cell_type": "markdown",
   "metadata": {},
   "source": [
    "### Likelihood Function\n",
    "\n",
    "Due to computation time concerns, we hope to calculate theoretical spectra as few times as possible. Our basic likelihood function will therefore accept a pre-calculated theoretical spectrum for a given volume fraction $\\left \\{ R^t(\\phi) \\right \\}$. The pre-calculated theoretical spectrum could be computed in a brute-force approach or it could perform its own random walk (in volume fraction dimension only) following a Monte Carlo procedure. There are uncertainties associated with both the stochastic Monte Carlo model and the experimental data. These two uncertainties are assumed to be Gaussian, and so their convolution is a Gaussian with variance equal to the sum of the two independent noise source variances [4]. In the approximation of a linear model, likelihood is proportional to $\\exp{\\left(-\\chi^2/2\\right)}$. The likelihood is a product over all wavelengths $\\lambda_i$, and depends on the experimental reflectance $\\{D_i\\}$ with uncertainties $\\{\\sigma_{di}\\}$, theoretical reflectance $\\{R_i^t\\}$ with uncertainties $\\{\\sigma_{ti}\\}$, and Loss parameters $\\{l_i\\}$:\n",
    "\n",
    "$$\n",
    "p\\left(D|M,\\phi,l_0,l_1,I\\right)=\\left(2\\pi\\right)^{-N/2}\\left[\\prod_{i=1} ^N \\left(\\sigma_{di}^2+\\sigma_{ti}^2\\right)^{-1/2}\\right]\\exp{\\left[\\sum_{i=1}^N\\frac{-\\left(D_i-(1-l_0-l_1\\lambda_i)R_i^t(\\lambda_i,\\phi)\\right)^2}{2\\left(\\sigma_{di}^2+\\sigma_{ti}^2\\right)}\\right]}\n",
    "$$\n",
    "\n",
    "### Choice of priors\n",
    "\n",
    "The prior for the volume fraction is given by previous knowledge of the experimental system. Structurally-colored samples are made of packings of spherical particles. The highest theoretical packing for spheres is 74%, which corresponds to face-centered cubic (fcc) or hexagonal closed-packed (hcp) crystal structures. Since the samples of interest in this model are amorphous, their volume fraction will always be less than 0.74 [5]. On the other hand, the samples exhibit structural color, which require some degree of packing. Experimentally, samples that have a volume fraction lower than 0.35 do not show noticeable structural color peaks in their reflection spectra. Therefore, the prior for the volume fraction is given by:\n",
    "\n",
    "$$\n",
    "0.35 < \\mathrm{volume \\, fraction} < 0.74\n",
    "$$\n",
    "\n",
    "The prior for the losses is chosen based on the fact that the losses must be within the same range of possible values as the reflectance. A negative loss or a loss that is larger than 100% is not physically feasible. Thus, the prior is given by:\n",
    "\n",
    "$$\n",
    "0 < l_0 < 1 \\\\\n",
    "0 < l_0 + l_1 < 1\n",
    "$$"
   ]
  },
  {
   "cell_type": "code",
   "execution_count": 3,
   "metadata": {
    "collapsed": true
   },
   "outputs": [],
   "source": [
    "def calc_likelihood(spect_theory, spect_meas, sigma_theory, sigma_meas, wavelength, l0, l1):\n",
    "\n",
    "    \"\"\"\n",
    "    returns likelihood of obtaining an experimental dataset from a given spectrum\n",
    "    \n",
    "    Parameters:\n",
    "        spect_theory: a spectrum calculated from the MC model (array of length N)\n",
    "        spect_meas: dependent variable - experimental measurements (array of length N)\n",
    "        sigma_theory: uncertainty associated with the probabilistic MC model (array of length N)\n",
    "        sigma_meas: uncertainty assocated with the experimental measurements (array of length N)\n",
    "        wavelength: independent variable (array of length N)\n",
    "        l0: constant loss parameter (float)\n",
    "        l1: effect of wavelength on losses (float)\n",
    "    \"\"\"\n",
    "    \n",
    "    loss = l0 + l1*wavelength\n",
    "    residual = (spect_data - (1-loss)*spect_theory)\n",
    "    var_eff = ((1-loss)*sigma_theory)**2 + sigma_data**2\n",
    "    chi_square = np.sum(residual**2/var_eff)\n",
    "    prefactor = 1/np.prod(np.sqrt(2*np.pi*var_eff))\n",
    "    return prefactor * np.exp(-chi_square/2)"
   ]
  },
  {
   "cell_type": "markdown",
   "metadata": {},
   "source": [
    "### Application\n",
    "\n",
    "Computation of a spectrum with our generative model will always take a long time due to the many calculations required in the Monte Carlo multiple scattering algorithm. To obtain meaningfull results, we intend to run MCMC calculations for long times on Odyssey to take advantage of Emcee's parallelization of walkers. A personal computer cannot be expected to produce reasonable inference results from our generative model. Nevertheless, we present the steps here to load in a simulated dataset and perform inference. \n",
    "\n",
    "The simulated data has volume fraction $\\phi = 0.59$, and losses $l_0=l_1=0$. It was generated by a single run of the Monte Carlo multiple scattering code. We perform a basic MCMC computation with 6 walkers each taking 50 steps. This is not nearly sufficient to achieve a representative sampling of parameter values or even to 'burn-in', so the output will be highly dependent on the initial parameter distributions. Even so, it required more than 20 minutes to run on an 8-core desktop computer. \n",
    "\n",
    "We show traces of each parameter, as well as the log-probability over the walkers' trajectories. The traces are not particularly informative for such a small number of short trajectories. The main takeaway is that the walkers have not equilibrated over 50 steps (most visible in the plots of $l_0$ and $\\log(p)$), and so the sparse distributions obtained do not truly represent the posterior probability. For this reason, we do not report most probable values from this calculation, since they would not be physically meaningful.\n",
    "\n",
    "Because the generative model is stochastic, its current implementation occasionally fails to produce results, and the inference calculation must be manually restarted. This is a result of the specific tuning parameters chosen for the generative model (e.g. number of photon trajectories to calculate). Adjustments will be made over the course of the project to ensure stability."
   ]
  },
  {
   "cell_type": "code",
   "execution_count": 2,
   "metadata": {
    "collapsed": false,
    "scrolled": true
   },
   "outputs": [
    {
     "name": "stdout",
     "output_type": "stream",
     "text": [
      "1065.5163600444794\n"
     ]
    }
   ],
   "source": [
    "#convert test data into a spectrum file and load it\n",
    "directory= os.path.join(os.getcwd(), 'infer_structcol', 'tests', 'test_data', 'reflection')\n",
    "ifs.convert_data([450,500,550,600,650,700,750,800], 'ref.txt', 'dark.txt', directory)\n",
    "spect = ifs.load_spectrum(refl_filepath = os.path.join(directory, 'reflection' , 'converted', '0_data_file.txt'))\n",
    "\n",
    "#define sample values\n",
    "samp = ifs.Sample(spect.wavelength, particle_radius=119, thickness=120, particle_index=1.59, matrix_index=1)\n",
    "\n",
    "#perform inference calculation\n",
    "t0 = time.time()\n",
    "walkers = ifs.run_mcmc(spect, samp, nwalkers=6, nsteps=10, seed=2)\n",
    "print(time.time() - t0)"
   ]
  },
  {
   "cell_type": "code",
   "execution_count": null,
   "metadata": {
    "collapsed": false
   },
   "outputs": [],
   "source": [
    "#code to visualize traces modified from notebook_week_09.ipynb\n",
    "fig, (ax_l1, ax_l0, ax_vf, ax_lnprob) = plt.subplots(4)\n",
    "ax_vf.set(ylabel='vf')\n",
    "ax_l0.set(ylabel='l_0')\n",
    "ax_l1.set(ylabel='l_1')\n",
    "ax_lnprob.set(ylabel='ln(p)')\n",
    "#ax_lnprob.set(ylim=[0,20])\n",
    "for i in range(6):\n",
    "    sns.tsplot(walkers.chain[i,:,0], ax=ax_vf)\n",
    "    sns.tsplot(walkers.chain[i,:,1], ax=ax_l0)\n",
    "    sns.tsplot(walkers.chain[i,:,2], ax=ax_l1)\n",
    "    sns.tsplot(walkers.lnprobability[i,:], ax=ax_lnprob)\n",
    "plt.show()"
   ]
  },
  {
   "cell_type": "markdown",
   "metadata": {},
   "source": [
    "### References\n",
    "\n",
    "1. S. Magkiriadou, J. G. Park, Y. S. Kim, V. N. Manoharan (2014). “On the Absence of Red Structural Color in Photonic Glasses, Bird Feathers, and Certain Beetles”. Phys. Rev. E, 90, 062302.\n",
    "2. L. Wang, S. L. Jaques, L. Zheng (1995). MCML - Monte Carlo modeling of light transport in multi-layered tissues. Computer Methods and Programs in Biomedicine , 47, 131-146.\n",
    "3. C. F. Bohren, D. R. Huffman (1983). Absorption and Scattering of Light by Small Particles. New York: Wiley.\n",
    "4. P. Gregory (2010). Bayesian Logical Data Analysis for the Physical Sciences. New York: Cambridge University Press.\n",
    "5. T. C. Hales (2002). \"An overview of the Kepler conjecture\". arXiv:math/9811071v2."
   ]
  },
  {
   "cell_type": "code",
   "execution_count": null,
   "metadata": {
    "collapsed": true
   },
   "outputs": [],
   "source": []
  }
 ],
 "metadata": {
  "anaconda-cloud": {},
  "kernelspec": {
   "display_name": "Python [Root]",
   "language": "python",
   "name": "Python [Root]"
  },
  "language_info": {
   "codemirror_mode": {
    "name": "ipython",
    "version": 3
   },
   "file_extension": ".py",
   "mimetype": "text/x-python",
   "name": "python",
   "nbconvert_exporter": "python",
   "pygments_lexer": "ipython3",
   "version": "3.5.2"
  }
 },
 "nbformat": 4,
 "nbformat_minor": 1
}
